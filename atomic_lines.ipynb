{
 "cells": [
  {
   "cell_type": "code",
   "execution_count": null,
   "metadata": {},
   "outputs": [
    {
     "name": "stdout",
     "output_type": "stream",
     "text": [
      "The autoreload extension is already loaded. To reload it, use:\n",
      "  %reload_ext autoreload\n"
     ]
    }
   ],
   "source": [
    "%load_ext autoreload\n",
    "%autoreload 2\n",
    "\n",
    "import matplotlib.pyplot as plt\n",
    "import numpy as np\n",
    "from tabulate import tabulate\n",
    "from os import path\n",
    "from astropy.io import fits\n",
    "\n",
    "from spectrum import AtomicLine, Spectrum\n",
    "from common import list_files, list_directories, DATA_FOLDER, tqdm"
   ]
  },
  {
   "cell_type": "code",
   "execution_count": null,
   "metadata": {},
   "outputs": [],
   "source": [
    "# -------------------------------------------------------------------------------------\n",
    "# -------------------------------------- SOURCES --------------------------------------\n",
    "# -------------------------------------------------------------------------------------\n",
    "# Na I:  https://physics.nist.gov/PhysRefData/Handbook/Tables/sodiumtable3.htm\n",
    "# K  I:  https://physics.nist.gov/PhysRefData/Handbook/Tables/potassiumtable3.htm\n",
    "# Ca I:  https://physics.nist.gov/PhysRefData/Handbook/Tables/calciumtable3.htm\n",
    "# Ca II: https://physics.nist.gov/PhysRefData/Handbook/Tables/calciumtable4.htm\n",
    "\n",
    "NA_I_LINES = [\n",
    "    AtomicLine('Na I', 5889.950),\n",
    "    AtomicLine('Na I', 5895.924)\n",
    "]\n",
    "\n",
    "K_I_LINES = [\n",
    "    AtomicLine('K I', 7664.8991),\n",
    "    AtomicLine('K I', 7698.9645),\n",
    "    AtomicLine('K I', 5801.75),\n",
    "    AtomicLine('K I', 5812.15)\n",
    "]\n",
    "\n",
    "CA_I_LINES = [\n",
    "    AtomicLine('Ca I', 6102.722),\n",
    "    AtomicLine('Ca I', 6122.219)\n",
    "]\n",
    "\n",
    "CA_II_LINES = [\n",
    "    # TODO\n",
    "]\n"
   ]
  },
  {
   "cell_type": "code",
   "execution_count": null,
   "metadata": {},
   "outputs": [
    {
     "ename": "FileNotFoundError",
     "evalue": "data/DR4/HD23180_w564_n3_20140923_U.ascii not found.",
     "output_type": "error",
     "traceback": [
      "\u001b[0;31m---------------------------------------------------------------------------\u001b[0m",
      "\u001b[0;31mFileNotFoundError\u001b[0m                         Traceback (most recent call last)",
      "Cell \u001b[0;32mIn[4], line 35\u001b[0m\n\u001b[1;32m     30\u001b[0m     \u001b[38;5;28;01mreturn\u001b[39;00m sub_spectra\n\u001b[1;32m     32\u001b[0m \u001b[38;5;66;03m# hd23180 = load_fits_to_spectrum('data/fits/HD23180')\u001b[39;00m\n\u001b[1;32m     33\u001b[0m \u001b[38;5;66;03m# spectra = [load_fits_to_spectrum(target_dir) for target_dir in tqdm(list_directories(path.join(DATA_FOLDER, 'fits')), 'Loading spectra')]\u001b[39;00m\n\u001b[0;32m---> 35\u001b[0m hd23180 \u001b[38;5;241m=\u001b[39m \u001b[43mload_spectrum\u001b[49m\u001b[43m(\u001b[49m\u001b[38;5;124;43m'\u001b[39;49m\u001b[38;5;124;43mdata/DR4/HD23180_w564_n3_20140923_U.ascii\u001b[39;49m\u001b[38;5;124;43m'\u001b[39;49m\u001b[43m)\u001b[49m\n\u001b[1;32m     36\u001b[0m spectra \u001b[38;5;241m=\u001b[39m [load_spectrum(datafile) \u001b[38;5;28;01mfor\u001b[39;00m datafile \u001b[38;5;129;01min\u001b[39;00m tqdm(list_files(path\u001b[38;5;241m.\u001b[39mjoin(DATA_FOLDER, \u001b[38;5;124m'\u001b[39m\u001b[38;5;124mDR4\u001b[39m\u001b[38;5;124m'\u001b[39m)), \u001b[38;5;124m'\u001b[39m\u001b[38;5;124mLoading spectra\u001b[39m\u001b[38;5;124m'\u001b[39m)]\n",
      "Cell \u001b[0;32mIn[4], line 2\u001b[0m, in \u001b[0;36mload_spectrum\u001b[0;34m(datafile)\u001b[0m\n\u001b[1;32m      1\u001b[0m \u001b[38;5;28;01mdef\u001b[39;00m \u001b[38;5;21mload_spectrum\u001b[39m(datafile: \u001b[38;5;28mstr\u001b[39m):\n\u001b[0;32m----> 2\u001b[0m     wvl, flux \u001b[38;5;241m=\u001b[39m \u001b[43mnp\u001b[49m\u001b[38;5;241;43m.\u001b[39;49m\u001b[43mloadtxt\u001b[49m\u001b[43m(\u001b[49m\u001b[43mdatafile\u001b[49m\u001b[43m,\u001b[49m\u001b[43m \u001b[49m\u001b[43musecols\u001b[49m\u001b[38;5;241;43m=\u001b[39;49m\u001b[43m(\u001b[49m\u001b[38;5;241;43m0\u001b[39;49m\u001b[43m,\u001b[49m\u001b[43m \u001b[49m\u001b[38;5;241;43m3\u001b[39;49m\u001b[43m)\u001b[49m\u001b[43m,\u001b[49m\u001b[43m \u001b[49m\u001b[43munpack\u001b[49m\u001b[38;5;241;43m=\u001b[39;49m\u001b[38;5;28;43;01mTrue\u001b[39;49;00m\u001b[43m,\u001b[49m\u001b[43m \u001b[49m\u001b[43mskiprows\u001b[49m\u001b[38;5;241;43m=\u001b[39;49m\u001b[38;5;241;43m1\u001b[39;49m\u001b[43m)\u001b[49m\n\u001b[1;32m      3\u001b[0m     target_name \u001b[38;5;241m=\u001b[39m path\u001b[38;5;241m.\u001b[39mbasename(datafile)\u001b[38;5;241m.\u001b[39msplit(\u001b[38;5;124m'\u001b[39m\u001b[38;5;124m_\u001b[39m\u001b[38;5;124m'\u001b[39m)[\u001b[38;5;241m0\u001b[39m]\n\u001b[1;32m      5\u001b[0m     \u001b[38;5;28;01mreturn\u001b[39;00m Spectrum(target_name, wvl, flux)\n",
      "File \u001b[0;32m~/miniconda3/lib/python3.12/site-packages/numpy/lib/_npyio_impl.py:1395\u001b[0m, in \u001b[0;36mloadtxt\u001b[0;34m(fname, dtype, comments, delimiter, converters, skiprows, usecols, unpack, ndmin, encoding, max_rows, quotechar, like)\u001b[0m\n\u001b[1;32m   1392\u001b[0m \u001b[38;5;28;01mif\u001b[39;00m \u001b[38;5;28misinstance\u001b[39m(delimiter, \u001b[38;5;28mbytes\u001b[39m):\n\u001b[1;32m   1393\u001b[0m     delimiter \u001b[38;5;241m=\u001b[39m delimiter\u001b[38;5;241m.\u001b[39mdecode(\u001b[38;5;124m'\u001b[39m\u001b[38;5;124mlatin1\u001b[39m\u001b[38;5;124m'\u001b[39m)\n\u001b[0;32m-> 1395\u001b[0m arr \u001b[38;5;241m=\u001b[39m \u001b[43m_read\u001b[49m\u001b[43m(\u001b[49m\u001b[43mfname\u001b[49m\u001b[43m,\u001b[49m\u001b[43m \u001b[49m\u001b[43mdtype\u001b[49m\u001b[38;5;241;43m=\u001b[39;49m\u001b[43mdtype\u001b[49m\u001b[43m,\u001b[49m\u001b[43m \u001b[49m\u001b[43mcomment\u001b[49m\u001b[38;5;241;43m=\u001b[39;49m\u001b[43mcomment\u001b[49m\u001b[43m,\u001b[49m\u001b[43m \u001b[49m\u001b[43mdelimiter\u001b[49m\u001b[38;5;241;43m=\u001b[39;49m\u001b[43mdelimiter\u001b[49m\u001b[43m,\u001b[49m\n\u001b[1;32m   1396\u001b[0m \u001b[43m            \u001b[49m\u001b[43mconverters\u001b[49m\u001b[38;5;241;43m=\u001b[39;49m\u001b[43mconverters\u001b[49m\u001b[43m,\u001b[49m\u001b[43m \u001b[49m\u001b[43mskiplines\u001b[49m\u001b[38;5;241;43m=\u001b[39;49m\u001b[43mskiprows\u001b[49m\u001b[43m,\u001b[49m\u001b[43m \u001b[49m\u001b[43musecols\u001b[49m\u001b[38;5;241;43m=\u001b[39;49m\u001b[43musecols\u001b[49m\u001b[43m,\u001b[49m\n\u001b[1;32m   1397\u001b[0m \u001b[43m            \u001b[49m\u001b[43munpack\u001b[49m\u001b[38;5;241;43m=\u001b[39;49m\u001b[43munpack\u001b[49m\u001b[43m,\u001b[49m\u001b[43m \u001b[49m\u001b[43mndmin\u001b[49m\u001b[38;5;241;43m=\u001b[39;49m\u001b[43mndmin\u001b[49m\u001b[43m,\u001b[49m\u001b[43m \u001b[49m\u001b[43mencoding\u001b[49m\u001b[38;5;241;43m=\u001b[39;49m\u001b[43mencoding\u001b[49m\u001b[43m,\u001b[49m\n\u001b[1;32m   1398\u001b[0m \u001b[43m            \u001b[49m\u001b[43mmax_rows\u001b[49m\u001b[38;5;241;43m=\u001b[39;49m\u001b[43mmax_rows\u001b[49m\u001b[43m,\u001b[49m\u001b[43m \u001b[49m\u001b[43mquote\u001b[49m\u001b[38;5;241;43m=\u001b[39;49m\u001b[43mquotechar\u001b[49m\u001b[43m)\u001b[49m\n\u001b[1;32m   1400\u001b[0m \u001b[38;5;28;01mreturn\u001b[39;00m arr\n",
      "File \u001b[0;32m~/miniconda3/lib/python3.12/site-packages/numpy/lib/_npyio_impl.py:1022\u001b[0m, in \u001b[0;36m_read\u001b[0;34m(fname, delimiter, comment, quote, imaginary_unit, usecols, skiplines, max_rows, converters, ndmin, unpack, dtype, encoding)\u001b[0m\n\u001b[1;32m   1020\u001b[0m     fname \u001b[38;5;241m=\u001b[39m os\u001b[38;5;241m.\u001b[39mfspath(fname)\n\u001b[1;32m   1021\u001b[0m \u001b[38;5;28;01mif\u001b[39;00m \u001b[38;5;28misinstance\u001b[39m(fname, \u001b[38;5;28mstr\u001b[39m):\n\u001b[0;32m-> 1022\u001b[0m     fh \u001b[38;5;241m=\u001b[39m \u001b[43mnp\u001b[49m\u001b[38;5;241;43m.\u001b[39;49m\u001b[43mlib\u001b[49m\u001b[38;5;241;43m.\u001b[39;49m\u001b[43m_datasource\u001b[49m\u001b[38;5;241;43m.\u001b[39;49m\u001b[43mopen\u001b[49m\u001b[43m(\u001b[49m\u001b[43mfname\u001b[49m\u001b[43m,\u001b[49m\u001b[43m \u001b[49m\u001b[38;5;124;43m'\u001b[39;49m\u001b[38;5;124;43mrt\u001b[39;49m\u001b[38;5;124;43m'\u001b[39;49m\u001b[43m,\u001b[49m\u001b[43m \u001b[49m\u001b[43mencoding\u001b[49m\u001b[38;5;241;43m=\u001b[39;49m\u001b[43mencoding\u001b[49m\u001b[43m)\u001b[49m\n\u001b[1;32m   1023\u001b[0m     \u001b[38;5;28;01mif\u001b[39;00m encoding \u001b[38;5;129;01mis\u001b[39;00m \u001b[38;5;28;01mNone\u001b[39;00m:\n\u001b[1;32m   1024\u001b[0m         encoding \u001b[38;5;241m=\u001b[39m \u001b[38;5;28mgetattr\u001b[39m(fh, \u001b[38;5;124m'\u001b[39m\u001b[38;5;124mencoding\u001b[39m\u001b[38;5;124m'\u001b[39m, \u001b[38;5;124m'\u001b[39m\u001b[38;5;124mlatin1\u001b[39m\u001b[38;5;124m'\u001b[39m)\n",
      "File \u001b[0;32m~/miniconda3/lib/python3.12/site-packages/numpy/lib/_datasource.py:192\u001b[0m, in \u001b[0;36mopen\u001b[0;34m(path, mode, destpath, encoding, newline)\u001b[0m\n\u001b[1;32m    155\u001b[0m \u001b[38;5;250m\u001b[39m\u001b[38;5;124;03m\"\"\"\u001b[39;00m\n\u001b[1;32m    156\u001b[0m \u001b[38;5;124;03mOpen `path` with `mode` and return the file object.\u001b[39;00m\n\u001b[1;32m    157\u001b[0m \n\u001b[0;32m   (...)\u001b[0m\n\u001b[1;32m    188\u001b[0m \n\u001b[1;32m    189\u001b[0m \u001b[38;5;124;03m\"\"\"\u001b[39;00m\n\u001b[1;32m    191\u001b[0m ds \u001b[38;5;241m=\u001b[39m DataSource(destpath)\n\u001b[0;32m--> 192\u001b[0m \u001b[38;5;28;01mreturn\u001b[39;00m \u001b[43mds\u001b[49m\u001b[38;5;241;43m.\u001b[39;49m\u001b[43mopen\u001b[49m\u001b[43m(\u001b[49m\u001b[43mpath\u001b[49m\u001b[43m,\u001b[49m\u001b[43m \u001b[49m\u001b[43mmode\u001b[49m\u001b[43m,\u001b[49m\u001b[43m \u001b[49m\u001b[43mencoding\u001b[49m\u001b[38;5;241;43m=\u001b[39;49m\u001b[43mencoding\u001b[49m\u001b[43m,\u001b[49m\u001b[43m \u001b[49m\u001b[43mnewline\u001b[49m\u001b[38;5;241;43m=\u001b[39;49m\u001b[43mnewline\u001b[49m\u001b[43m)\u001b[49m\n",
      "File \u001b[0;32m~/miniconda3/lib/python3.12/site-packages/numpy/lib/_datasource.py:529\u001b[0m, in \u001b[0;36mDataSource.open\u001b[0;34m(self, path, mode, encoding, newline)\u001b[0m\n\u001b[1;32m    526\u001b[0m     \u001b[38;5;28;01mreturn\u001b[39;00m _file_openers[ext](found, mode\u001b[38;5;241m=\u001b[39mmode,\n\u001b[1;32m    527\u001b[0m                               encoding\u001b[38;5;241m=\u001b[39mencoding, newline\u001b[38;5;241m=\u001b[39mnewline)\n\u001b[1;32m    528\u001b[0m \u001b[38;5;28;01melse\u001b[39;00m:\n\u001b[0;32m--> 529\u001b[0m     \u001b[38;5;28;01mraise\u001b[39;00m \u001b[38;5;167;01mFileNotFoundError\u001b[39;00m(\u001b[38;5;124mf\u001b[39m\u001b[38;5;124m\"\u001b[39m\u001b[38;5;132;01m{\u001b[39;00mpath\u001b[38;5;132;01m}\u001b[39;00m\u001b[38;5;124m not found.\u001b[39m\u001b[38;5;124m\"\u001b[39m)\n",
      "\u001b[0;31mFileNotFoundError\u001b[0m: data/DR4/HD23180_w564_n3_20140923_U.ascii not found."
     ]
    }
   ],
   "source": [
    "def load_spectrum(datafile: str):\n",
    "    wvl, flux = np.loadtxt(datafile, usecols=(0, 3), unpack=True, skiprows=1)\n",
    "    target_name = path.basename(datafile).split('_')[0]\n",
    "\n",
    "    return Spectrum(target_name, wvl, flux)\n",
    "\n",
    "def load_fits_to_spectrum(target_dir: str):\n",
    "    sub_spectra = []\n",
    "    \n",
    "    for band_dir in list_directories(target_dir):\n",
    "        for datafile in list_files(band_dir):\n",
    "            if not datafile.endswith('.fits'):\n",
    "                print(f'[WARNING]: skipping unexpected datafile: {datafile}')\n",
    "                continue\n",
    "\n",
    "            with fits.open(datafile) as hdulist:\n",
    "                header = hdulist[0].header\n",
    "                target = header['OBJECT']\n",
    "                starting_wvl = header['CRVAL1']\n",
    "                stepsize_wvl = header['CDELT1']\n",
    "\n",
    "                flux = hdulist[0].data\n",
    "                wavelength = np.arange(0, len(flux), 1) * stepsize_wvl + starting_wvl\n",
    "                flux[np.abs(flux) > 1.01 * np.median(flux)] = np.median(flux)\n",
    "\n",
    "                fig, ax = plt.subplots(1, 1, figsize=(15,3))\n",
    "                spectrum = Spectrum(target, wavelength, flux).normalize(1, ax)\n",
    "                sub_spectra.append(spectrum)\n",
    "\n",
    "    return sub_spectra\n",
    "\n",
    "# hd23180 = load_fits_to_spectrum('data/fits/HD23180')\n",
    "# spectra = [load_fits_to_spectrum(target_dir) for target_dir in tqdm(list_directories(path.join(DATA_FOLDER, 'fits')), 'Loading spectra')]\n",
    "\n",
    "hd23180 = load_spectrum('data/ascii/HD185859/')\n",
    "spectra = [load_spectrum(datafile) for datafile in tqdm(list_files(path.join(DATA_FOLDER, 'DR4')), 'Loading spectra')]"
   ]
  },
  {
   "cell_type": "code",
   "execution_count": null,
   "metadata": {},
   "outputs": [],
   "source": [
    "fig, axes = plt.subplots(nrows=2, ncols=1, figsize=(15, 6))\n",
    "na_line_pairs = hd23180.identify_atomic_line(\n",
    "    NA_I_LINES[0], NA_I_LINES[1],\n",
    "    axes=axes, draw_expected=True,\n",
    "    output_difference=True,\n",
    "    output_radial_velocity=True\n",
    ")\n",
    "\n",
    "fig.suptitle(f'Na I atomic line detection for {hd23180.target}')\n",
    "fig.tight_layout()\n",
    "\n",
    "tabulate(na_line_pairs, ['Line 1 [Å]', 'Line 2 [Å]', 'Deviation [Å]', 'Radial velocity [km/s]'], tablefmt='html')"
   ]
  },
  {
   "cell_type": "code",
   "execution_count": null,
   "metadata": {},
   "outputs": [],
   "source": [
    "fig, axes = plt.subplots(nrows=2, ncols=1, figsize=(15, 6))\n",
    "k_line_pairs = hd23180.identify_atomic_line(\n",
    "    K_I_LINES[2], K_I_LINES[3],\n",
    "    axes=axes, draw_expected=True,\n",
    "    output_difference=True,\n",
    "    output_radial_velocity=True\n",
    ")\n",
    "\n",
    "fig.suptitle(f'K I atomic line detection for {hd23180.target}')\n",
    "fig.tight_layout()\n",
    "\n",
    "tabulate(k_line_pairs, ['Line 1 [Å]', 'Line 2 [Å]', 'Deviation [Å]', 'Radial velocity [km/s]'], tablefmt='html')"
   ]
  },
  {
   "cell_type": "code",
   "execution_count": null,
   "metadata": {},
   "outputs": [],
   "source": [
    "fig, axes = plt.subplots(nrows=2, ncols=1, figsize=(15, 6))\n",
    "ca_line_pairs = hd23180.identify_atomic_line(\n",
    "    CA_I_LINES[0], CA_I_LINES[1],\n",
    "    axes=axes, draw_expected=True,\n",
    "    output_difference=True,\n",
    "    output_radial_velocity=True\n",
    ")\n",
    "\n",
    "fig.suptitle(f'Ca I atomic line detection for {hd23180.target}')\n",
    "fig.tight_layout()\n",
    "\n",
    "tabulate(ca_line_pairs, ['Line 1 [Å]', 'Line 2 [Å]', 'Deviation [Å]', 'Radial velocity [km/s]'], tablefmt='html')"
   ]
  },
  {
   "cell_type": "code",
   "execution_count": null,
   "metadata": {},
   "outputs": [],
   "source": [
    "def create_line_pair_table_rows(spectrum: Spectrum, line1: AtomicLine, line2: AtomicLine):\n",
    "    line_pairs = spectrum.identify_atomic_line(line1, line2, output_difference=True, output_radial_velocity=True, tollerance=None)\n",
    "    extra_info = [spectrum.target]\n",
    "    return np.column_stack((np.full((line_pairs.shape[0], len(extra_info)), extra_info), line_pairs))"
   ]
  },
  {
   "cell_type": "code",
   "execution_count": null,
   "metadata": {},
   "outputs": [],
   "source": [
    "na_line_pairs_all = np.concatenate([create_line_pair_table_rows(spectrum, NA_I_LINES[0], NA_I_LINES[1]) for spectrum in tqdm(spectra, 'Searching Na I lines')])\n",
    "\n",
    "headers = ['Target', 'Line 1 [Å]', 'Line 2 [Å]', 'Deviation [Å]', 'Radial velocity [km/s]']\n",
    "tabulate(na_line_pairs_all, headers, tablefmt='html')"
   ]
  },
  {
   "cell_type": "code",
   "execution_count": null,
   "metadata": {},
   "outputs": [],
   "source": [
    "k_line_pairs_all = np.concatenate([create_line_pair_table_rows(spectrum, K_I_LINES[2], K_I_LINES[3]) for spectrum in tqdm(spectra, 'Searching K I lines')])\n",
    "\n",
    "headers = ['Target', 'Line 1 [Å]', 'Line 2 [Å]', 'Deviation [Å]', 'Radial velocity [km/s]']\n",
    "tabulate(k_line_pairs_all, headers, tablefmt='html')"
   ]
  },
  {
   "cell_type": "code",
   "execution_count": null,
   "metadata": {},
   "outputs": [],
   "source": [
    "ca_line_pairs_all = np.concatenate([create_line_pair_table_rows(spectrum, CA_I_LINES[0], CA_I_LINES[1]) for spectrum in tqdm(spectra, 'Searching Ca I lines')])\n",
    "\n",
    "headers = ['Target', 'Line 1 [Å]', 'Line 2 [Å]', 'Deviation [Å]', 'Radial velocity [km/s]']\n",
    "tabulate(ca_line_pairs_all, headers, tablefmt='html')"
   ]
  },
  {
   "cell_type": "code",
   "execution_count": null,
   "metadata": {},
   "outputs": [],
   "source": [
    "len(np.unique([spectrum.target for spectrum in spectra]))"
   ]
  }
 ],
 "metadata": {
  "kernelspec": {
   "display_name": "base",
   "language": "python",
   "name": "python3"
  },
  "language_info": {
   "codemirror_mode": {
    "name": "ipython",
    "version": 3
   },
   "file_extension": ".py",
   "mimetype": "text/x-python",
   "name": "python",
   "nbconvert_exporter": "python",
   "pygments_lexer": "ipython3",
   "version": "3.12.9"
  }
 },
 "nbformat": 4,
 "nbformat_minor": 2
}
