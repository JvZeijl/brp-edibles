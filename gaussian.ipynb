{
 "cells": [
  {
   "cell_type": "code",
   "execution_count": 1,
   "metadata": {},
   "outputs": [],
   "source": [
    "%load_ext autoreload\n",
    "%autoreload 2\n",
    "\n",
    "import matplotlib.pyplot as plt\n",
    "import numpy as np\n",
    "from tabulate import tabulate\n",
    "from os import path\n",
    "from astropy.io import fits\n",
    "\n",
    "from spectrum import Spectrum, FitsSpectrum\n",
    "from common import list_files, list_directories, tqdm"
   ]
  },
  {
   "cell_type": "code",
   "execution_count": null,
   "metadata": {},
   "outputs": [],
   "source": [
    "def load_target(target_dir: str) -> list[FitsSpectrum]:\n",
    "    return [FitsSpectrum(datafile) for band_dir in list_directories(target_dir) for datafile in list_files(band_dir)]\n",
    "\n",
    "hd185859 = load_target('data/fits/HD185859')\n",
    "dib_spectra = []\n",
    "\n",
    "# Normalization\n",
    "for subspectrum in hd185859:\n",
    "    subspectrum.remove_outliers()\n",
    "    subspectrum.normalize(max_degree=10)\n",
    "    subspectrum.correct_shift()"
   ]
  }
 ],
 "metadata": {
  "kernelspec": {
   "display_name": "py3122",
   "language": "python",
   "name": "python3"
  },
  "language_info": {
   "codemirror_mode": {
    "name": "ipython",
    "version": 3
   },
   "file_extension": ".py",
   "mimetype": "text/x-python",
   "name": "python",
   "nbconvert_exporter": "python",
   "pygments_lexer": "ipython3",
   "version": "3.12.2"
  }
 },
 "nbformat": 4,
 "nbformat_minor": 2
}
