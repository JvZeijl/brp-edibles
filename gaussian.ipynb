{
 "cells": [
  {
   "cell_type": "code",
   "execution_count": null,
   "id": "568b27a7",
   "metadata": {},
   "outputs": [],
   "source": [
    "%load_ext autoreload\n",
    "%autoreload 2\n",
    "\n",
    "import matplotlib.pyplot as plt\n",
    "import numpy as np\n",
    "from tabulate import tabulate\n",
    "import os, os.path as path\n",
    "\n",
    "from spectrum import FitsSpectrum\n",
    "from common import list_files, list_directories, tqdm"
   ]
  },
  {
   "cell_type": "code",
   "execution_count": null,
   "id": "e12b08b5",
   "metadata": {},
   "outputs": [],
   "source": [
    "dib_centers_all = np.loadtxt('data/dibs_list.csv')\n",
    "dib_centers_subset = [5780,5797,6196,6379,6613,7224]\n",
    "\n",
    "def load_target(target_dir: str) -> list[FitsSpectrum]:\n",
    "    return [FitsSpectrum(datafile) for band_dir in list_directories(target_dir) for datafile in list_files(band_dir)]\n",
    "\n",
    "def fit_gaussian_for_subspectrum(\n",
    "    subspectrum: FitsSpectrum,\n",
    "    create_figure = False,\n",
    "    export_data: list | None = None,\n",
    "    table_data: list | None = None,\n",
    "    dib_slice: tuple[int, int] | None = None,\n",
    "    expected_dib_centers: np.typing.NDArray | None = None,\n",
    "    tqdm_position: int = 0,\n",
    "    show_error = False,\n",
    "    save_plot = None\n",
    "):\n",
    "    wvl_max, wvl_min = np.max(subspectrum.wavelength), np.min(subspectrum.wavelength)\n",
    "\n",
    "    subspectrum.remove_outliers()\n",
    "    subspectrum.correct_shift()\n",
    "\n",
    "    dibs = list(subspectrum.select_dibs().items())\n",
    "    dibs_tqdm = tqdm(dibs if dib_slice is None else dibs[dib_slice[0]:dib_slice[1]], position=tqdm_position)\n",
    "    for center, bounds in dibs_tqdm:\n",
    "        dibs_tqdm.set_description(f'λ={wvl_min:.2f}-{wvl_max:.2f} [{center:.2f}]')\n",
    "\n",
    "        # The DIB does not lie in this subspectrum or is not an expected DIB (within 2 angstrom)\n",
    "        if not wvl_min < center < wvl_max or (expected_dib_centers is not None and np.all(np.abs(expected_dib_centers - center) > 0.5)):\n",
    "            continue\n",
    "\n",
    "        fig, ax = None, None\n",
    "        if create_figure:\n",
    "            fig, ax = plt.subplots(1, 1, figsize=(15, 12))\n",
    "\n",
    "        result = subspectrum.fit_gaussian(center, bounds, ax=ax, show_error=show_error)\n",
    "\n",
    "        if result is None:\n",
    "            continue\n",
    "\n",
    "        if save_plot is not None:\n",
    "            fig.savefig(f'export/{save_plot}')\n",
    "\n",
    "        params, rmse, fwhm, ew = result\n",
    "        centers, widths, amplitudes, skews = np.column_stack(params)\n",
    "\n",
    "        if table_data is not None:\n",
    "            table_data.append([subspectrum.target, subspectrum.format_obs_date(), bounds[0], bounds[1], *np.column_stack(params), rmse, fwhm, ew])\n",
    "\n",
    "        if export_data is not None:\n",
    "            export_data.append('\\t'.join([\n",
    "                subspectrum.obs_date.isoformat(),\n",
    "                str(bounds[0]), str(bounds[1]),\n",
    "                np.array2string(centers, separator=','),\n",
    "                np.array2string(amplitudes, separator=','),\n",
    "                np.array2string(widths, separator=','),\n",
    "                np.array2string(skews, separator=','),\n",
    "                str(rmse), str(fwhm), str(ew)\n",
    "            ]).replace('\\n', ' ').replace('\\r', ' ').strip())\n",
    "\n",
    "\n",
    "def fit_gaussian_for_targets(\n",
    "    targets: list | str,\n",
    "    expected_dib_centers: np.typing.NDArray | None = None,\n",
    "    export = False,\n",
    "    create_figure = False,\n",
    "    show_error = False\n",
    "):\n",
    "    headers = ['Observation date', 'Start [Å]', 'End [Å]', 'Center [Å]', 'Width', 'Amplitude', 'Skew', 'RMSE', 'FWHM [Å]', 'EW [Å]']\n",
    "    table_data = []\n",
    "\n",
    "    if type(targets) == str:\n",
    "        targets = [targets]\n",
    "\n",
    "    targets_tqdm = tqdm(targets)\n",
    "    for target in targets_tqdm:\n",
    "        export_data = ['# ' + '\\t'.join(headers)] if export else None\n",
    "        subspectra = load_target(f'data/fits/{target}')\n",
    "        \n",
    "        for subspectrum in subspectra:\n",
    "            targets_tqdm.set_description(f'{subspectrum.target} | {subspectrum.format_obs_date()}')\n",
    "            fit_gaussian_for_subspectrum(subspectrum, create_figure, export_data, table_data, expected_dib_centers=expected_dib_centers, tqdm_position=1, show_error=show_error)\n",
    "\n",
    "        if export:\n",
    "            export_file = open(f'export/{target}_gaussians.csv', 'w+')\n",
    "            export_file.write('\\n'.join(export_data))\n",
    "            export_file.close()\n",
    "\n",
    "    return tabulate(table_data, ['Target', *headers], tablefmt='html')\n"
   ]
  },
  {
   "cell_type": "code",
   "execution_count": null,
   "id": "a3de5038",
   "metadata": {},
   "outputs": [],
   "source": [
    "hd185859 = load_target('data/fits/HD185859')\n",
    "\n",
    "sp = hd185859[1]\n",
    "_ = fit_gaussian_for_subspectrum(hd185859[1], True, dib_slice=(40, 50))\n",
    "# _ = fit_gaussian_for_subspectrum(hd185859[1], True, expected_dib_centers=dib_centers_all)"
   ]
  },
  {
   "cell_type": "code",
   "execution_count": null,
   "id": "1b561641",
   "metadata": {},
   "outputs": [],
   "source": [
    "headers = ['Observation date', 'Start [Å]', 'End [Å]', 'Center [Å]', 'Width', 'Amplitude', 'Skew', 'RMSE', 'FWHM [Å]', 'EW [Å]']\n",
    "table_data = []\n",
    "\n",
    "fit_gaussian_for_subspectrum(\n",
    "    FitsSpectrum('data/fits/HD170740/RED_564/HD170740_w564_n9_20160612_U.fits'),\n",
    "    expected_dib_centers=[5780],\n",
    "    create_figure=True,\n",
    "    save_plot='5780_gauss.pdf'\n",
    "    # show_error=True\n",
    ")\n",
    "\n",
    "tabulate(table_data, ['Target', *headers], tablefmt='html')"
   ]
  },
  {
   "cell_type": "code",
   "execution_count": 6,
   "id": "8ccc5692",
   "metadata": {},
   "outputs": [],
   "source": [
    "_ = fit_gaussian_for_targets('HD170740', expected_dib_centers=dib_centers_all, export=True)"
   ]
  },
  {
   "cell_type": "code",
   "execution_count": null,
   "id": "4ee5df88",
   "metadata": {},
   "outputs": [],
   "source": [
    "_ = fit_gaussian_for_targets(['HD147889', 'HD158926', 'HD170740', 'HD185859'], expected_dib_centers=dib_centers_all, export=True)"
   ]
  },
  {
   "cell_type": "code",
   "execution_count": null,
   "id": "015be166",
   "metadata": {},
   "outputs": [],
   "source": [
    "fit_gaussian_for_targets(os.listdir('data/fits'), filename='gaussian_fits_all.csv')"
   ]
  }
 ],
 "metadata": {
  "kernelspec": {
   "display_name": "py3122",
   "language": "python",
   "name": "python3"
  },
  "language_info": {
   "codemirror_mode": {
    "name": "ipython",
    "version": 3
   },
   "file_extension": ".py",
   "mimetype": "text/x-python",
   "name": "python",
   "nbconvert_exporter": "python",
   "pygments_lexer": "ipython3",
   "version": "3.12.2"
  }
 },
 "nbformat": 4,
 "nbformat_minor": 5
}
