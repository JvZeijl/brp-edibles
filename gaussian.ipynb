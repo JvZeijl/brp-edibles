{
 "cells": [
  {
   "cell_type": "code",
   "execution_count": 2,
   "id": "568b27a7",
   "metadata": {},
   "outputs": [],
   "source": [
    "%load_ext autoreload\n",
    "%autoreload 2\n",
    "\n",
    "import matplotlib.pyplot as plt\n",
    "import numpy as np\n",
    "from tabulate import tabulate\n",
    "import os\n",
    "\n",
    "from spectrum import FitsSpectrum\n",
    "from common import list_files, list_directories, tqdm"
   ]
  },
  {
   "cell_type": "code",
   "execution_count": null,
   "id": "e12b08b5",
   "metadata": {},
   "outputs": [],
   "source": [
    "dib_centers_all = [float(dib_file.replace('.ascii', '')) for dib_file in os.listdir('data/dibs')]\n",
    "dib_centers_subset = [5780,5797,6196,6379,6613,7224]\n",
    "\n",
    "def load_target(target_dir: str) -> list[FitsSpectrum]:\n",
    "    return [FitsSpectrum(datafile) for band_dir in list_directories(target_dir) for datafile in list_files(band_dir)]\n",
    "\n",
    "def fit_gaussian_for_targets(targets: list | str, dib_centra_list: list, export = False, create_figure = False):\n",
    "    headers = ['Observation date', 'Center [Å]', 'Width', 'Amplitude', 'Skew', 'RMSE', 'FWHM [Å]', 'EW [Å]']\n",
    "    table_data = []\n",
    "\n",
    "    if type(targets) == str:\n",
    "        targets = [targets]\n",
    "\n",
    "    targets_tqdm = tqdm(targets)\n",
    "    for target in targets_tqdm:\n",
    "        export_data = ['# ' + '\\t'.join(headers)]\n",
    "        subspectra = load_target(f'data/fits/{target}')\n",
    "        \n",
    "        for subspectrum in subspectra:\n",
    "            wvl_max, wvl_min = np.max(subspectrum.wavelength), np.min(subspectrum.wavelength)\n",
    "\n",
    "            subspectrum.remove_outliers()\n",
    "            subspectrum.normalize(max_degree=10)\n",
    "            subspectrum.correct_shift()\n",
    "\n",
    "            for center in dib_centra_list:\n",
    "                targets_tqdm.set_description(f'{target} | λ={wvl_min:.2f}-{wvl_max:.2f} [{center:.2f}]')\n",
    "\n",
    "                # The DIB does not lie in this subspectrum\n",
    "                if not wvl_min < center < wvl_max:\n",
    "                    continue\n",
    "\n",
    "                ax = None\n",
    "                if create_figure:\n",
    "                    _, ax = plt.subplots(1, 1, figsize=(15, 9))\n",
    "\n",
    "                result = subspectrum.select_dib(center, ax=ax)\n",
    "\n",
    "                if result is None:\n",
    "                    continue\n",
    "\n",
    "                params, rmse, fwhm, ew = result\n",
    "                centers, widths, amplitudes, skews = np.column_stack(params)\n",
    "\n",
    "                table_data.append([subspectrum.target, subspectrum.format_obs_date(), *np.column_stack(params), rmse, fwhm, ew])\n",
    "\n",
    "                if export:\n",
    "                    export_data.append('\\t'.join([\n",
    "                        subspectrum.obs_date.isoformat(),\n",
    "                        np.array2string(centers, separator=','),\n",
    "                        np.array2string(amplitudes, separator=','),\n",
    "                        np.array2string(widths, separator=','),\n",
    "                        np.array2string(skews, separator=','),\n",
    "                        str(rmse), str(fwhm), str(ew)\n",
    "                    ]))\n",
    "\n",
    "        if export:\n",
    "            export_file = open(f'out/{target}_gaussians.csv', 'w+')\n",
    "            export_file.write('\\n'.join(export_data))\n",
    "            export_file.close()\n",
    "\n",
    "    return tabulate(table_data, ['Target', *headers], tablefmt='html')\n"
   ]
  },
  {
   "cell_type": "code",
   "execution_count": null,
   "id": "8ccc5692",
   "metadata": {},
   "outputs": [],
   "source": [
    "fit_gaussian_for_targets('HD185859', dib_centers_subset, create_figure=True, export=True)"
   ]
  },
  {
   "cell_type": "code",
   "execution_count": 7,
   "id": "4ee5df88",
   "metadata": {},
   "outputs": [
    {
     "name": "stderr",
     "output_type": "stream",
     "text": [
      "HD185859 | λ=8522.92-10429.48 [6194.70]: 100%|██████████| 4/4 [26:06<00:00, 391.65s/it]\n"
     ]
    }
   ],
   "source": [
    "_ = fit_gaussian_for_targets(['HD147889', 'HD158926', 'HD170740', 'HD185859'], dib_centers_all, export=True)\n"
   ]
  },
  {
   "cell_type": "code",
   "execution_count": null,
   "id": "015be166",
   "metadata": {},
   "outputs": [],
   "source": [
    "fit_gaussian_for_targets(os.listdir('data/fits'), filename='gaussian_fits_all.csv')"
   ]
  }
 ],
 "metadata": {
  "kernelspec": {
   "display_name": "py3122",
   "language": "python",
   "name": "python3"
  },
  "language_info": {
   "codemirror_mode": {
    "name": "ipython",
    "version": 3
   },
   "file_extension": ".py",
   "mimetype": "text/x-python",
   "name": "python",
   "nbconvert_exporter": "python",
   "pygments_lexer": "ipython3",
   "version": "3.12.2"
  }
 },
 "nbformat": 4,
 "nbformat_minor": 5
}
