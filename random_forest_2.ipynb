{
 "cells": [
  {
   "cell_type": "code",
   "execution_count": 33,
   "metadata": {},
   "outputs": [
    {
     "name": "stdout",
     "output_type": "stream",
     "text": [
      "The autoreload extension is already loaded. To reload it, use:\n",
      "  %reload_ext autoreload\n"
     ]
    }
   ],
   "source": [
    "%load_ext autoreload\n",
    "%autoreload 2\n",
    "\n",
    "from sklearn.ensemble import RandomForestRegressor\n",
    "from sklearn.metrics import root_mean_squared_error\n",
    "\n",
    "import matplotlib.pyplot as plt\n",
    "import numpy as np\n",
    "import os, os.path as path\n",
    "\n",
    "from spectrum import Spectrum\n",
    "from dirs import DATA_FOLDER, OUTPUT_FOLDER"
   ]
  },
  {
   "cell_type": "code",
   "execution_count": 31,
   "metadata": {},
   "outputs": [],
   "source": [
    "def load_spectrum(datafile):\n",
    "    wvl, flux = np.loadtxt(f'data/DR4/{datafile}', usecols=(0, 3), unpack=True, skiprows=1)\n",
    "    target_name = datafile.split('_')[0]\n",
    "\n",
    "    return Spectrum(target_name, wvl, flux)\n",
    "\n",
    "hd147889 = load_spectrum('HD147889_w564_n1_20140927_U.ascii')\n",
    "hd170740 = load_spectrum('HD170740_w564_n2_20160505_U.ascii')\n",
    "hd185859 = load_spectrum('HD185859_w564_n8_20160813_U.ascii')\n",
    "hd151804 = load_spectrum('HD151804_w564_n9_20160510_U.ascii')\n",
    "# hd158926 = load_spectrum('HD158926') # No data!!"
   ]
  },
  {
   "cell_type": "code",
   "execution_count": null,
   "metadata": {},
   "outputs": [
    {
     "name": "stdout",
     "output_type": "stream",
     "text": [
      "Training on 3 spectra: HD170740, HD185859, HD151804\n",
      "Training on 3 spectra: HD147889, HD185859, HD151804\n",
      "Training on 3 spectra: HD147889, HD170740, HD151804\n"
     ]
    }
   ],
   "source": [
    "def train_rf(rf: RandomForestRegressor, spectra: list[Spectrum]) -> RandomForestRegressor:\n",
    "    wavelength = np.concatenate([spectrum.wavelength for spectrum in spectra])[:, np.newaxis]\n",
    "    flux = np.concatenate([spectrum.flux for spectrum in spectra])\n",
    "\n",
    "    rf.fit(wavelength, flux)\n",
    "\n",
    "def plot_rf_prediction(rf: RandomForestRegressor, test_spectrum: Spectrum):\n",
    "    fig, axes = plt.subplots(nrows=3, ncols=1, figsize=(15, 9), sharex=True)\n",
    "\n",
    "    predicted_flux = rf.predict(test_spectrum.wavelength[:, np.newaxis])\n",
    "    rmse = root_mean_squared_error(test_spectrum.flux, predicted_flux)\n",
    "\n",
    "    test_spectrum.plot(axes[0])\n",
    "    axes[1].plot(test_spectrum.wavelength, predicted_flux, '.')\n",
    "    axes[2].plot(test_spectrum.wavelength, test_spectrum.flux - predicted_flux, '.')\n",
    "\n",
    "    axes[0].set_title('Observed spectrum')\n",
    "    axes[1].set_title('Predicted spectrum')\n",
    "    axes[2].set_title(f'Difference (RMSE={rmse:.4g})')\n",
    "\n",
    "    fig.suptitle(f'RF prediction for {test_spectrum.target}')\n",
    "\n",
    "\n",
    "def cross_validation(spectra: list[Spectrum], n_estimators=100):\n",
    "    # Start with 0 estimators because it gets increased in the for-loop straightaway\n",
    "    rf = RandomForestRegressor(n_estimators=0, warm_start=True)\n",
    "\n",
    "    for spectrum in spectra:\n",
    "        training_spectra = [spec for spec in spectra if spec is not spectrum]\n",
    "        rf.n_estimators += n_estimators\n",
    "\n",
    "        print(f'Training on {len(training_spectra)} spectra: {', '.join([ts.target for ts in training_spectra])}')\n",
    "        train_rf(rf, training_spectra)\n",
    "        plot_rf_prediction(rf, spectrum)\n",
    "\n",
    "cross_validation([hd147889, hd170740, hd185859, hd151804])"
   ]
  }
 ],
 "metadata": {
  "kernelspec": {
   "display_name": "base",
   "language": "python",
   "name": "python3"
  },
  "language_info": {
   "codemirror_mode": {
    "name": "ipython",
    "version": 3
   },
   "file_extension": ".py",
   "mimetype": "text/x-python",
   "name": "python",
   "nbconvert_exporter": "python",
   "pygments_lexer": "ipython3",
   "version": "3.12.9"
  }
 },
 "nbformat": 4,
 "nbformat_minor": 2
}
