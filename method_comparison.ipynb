{
 "cells": [
  {
   "cell_type": "code",
   "execution_count": 2,
   "id": "6097fac9",
   "metadata": {},
   "outputs": [],
   "source": [
    "import numpy as np\n",
    "\n",
    "rmse_gauss = [0.0452, 0.0514, 0.0486, 0.0496, 0.0395, 0.0313]\n",
    "rmse_rf = [0.043, 0.1521, 0.0407, 0.0455, 0.0644, 0.0413]\n",
    "rmse_xgb = [0.0454, 0.1495, 0.0589, 0.0366, 0.0972, 0.0487]\n",
    "r2_gauss = [0.980, 0.979, 0.978, 0.978, 0.988, 0.992]\n",
    "r2_rf = [0.982, 0.806, 0.982, 0.983, 0.961, 0.985]\n",
    "r2_xgb = [0.981, 0.812, 0.963, 0.989, 0.912, 0.979]"
   ]
  },
  {
   "cell_type": "code",
   "execution_count": 4,
   "id": "0ac8ce53",
   "metadata": {},
   "outputs": [
    {
     "name": "stdout",
     "output_type": "stream",
     "text": [
      "rmse_gauss = 0.0443 +/- 0.00695\n",
      "rmse_rf = 0.0645 +/- 0.04\n",
      "rmse_xgb = 0.0727 +/- 0.0394\n",
      "r2_gauss = 0.983 +/- 0.00547\n",
      "r2_rf = 0.95 +/- 0.0648\n",
      "r2_xgb = 0.939 +/- 0.0623\n",
      "0.0443 & 0.0645 & 0.0727 & 0.983 & 0.95 & 0.939\n",
      "0.00695 & 0.04 & 0.0394 & 0.00547 & 0.0648 & 0.0623\n"
     ]
    }
   ],
   "source": [
    "rmse_gauss_mean, rmse_gauss_std = np.mean(rmse_gauss), np.std(rmse_gauss)\n",
    "rmse_rf_mean, rmse_rf_std = np.mean(rmse_rf), np.std(rmse_rf)\n",
    "rmse_xgb_mean, rmse_xgb_std = np.mean(rmse_xgb), np.std(rmse_xgb)\n",
    "r2_gauss_mean, r2_gauss_std = np.mean(r2_gauss), np.std(r2_gauss)\n",
    "r2_rf_mean, r2_rf_std = np.mean(r2_rf), np.std(r2_rf)\n",
    "r2_xgb_mean, r2_xgb_std = np.mean(r2_xgb), np.std(r2_xgb)\n",
    "\n",
    "print(f'rmse_gauss = {rmse_gauss_mean:.3g} +/- {rmse_gauss_std:.3g}')\n",
    "print(f'rmse_rf = {rmse_rf_mean:.3g} +/- {rmse_rf_std:.3g}')\n",
    "print(f'rmse_xgb = {rmse_xgb_mean:.3g} +/- {rmse_xgb_std:.3g}')\n",
    "print(f'r2_gauss = {r2_gauss_mean:.3g} +/- {r2_gauss_std:.3g}')\n",
    "print(f'r2_rf = {r2_rf_mean:.3g} +/- {r2_rf_std:.3g}')\n",
    "print(f'r2_xgb = {r2_xgb_mean:.3g} +/- {r2_xgb_std:.3g}')\n",
    "\n",
    "print(' & '.join([\n",
    "    f'{rmse_gauss_mean:.3g}',\n",
    "    f'{rmse_rf_mean:.3g}',\n",
    "    f'{rmse_xgb_mean:.3g}',\n",
    "    f'{r2_gauss_mean:.3g}',\n",
    "    f'{r2_rf_mean:.3g}',\n",
    "    f'{r2_xgb_mean:.3g}'\n",
    "]))\n",
    "\n",
    "print(' & '.join([\n",
    "    f'{rmse_gauss_std:.3g}',\n",
    "    f'{rmse_rf_std:.3g}',\n",
    "    f'{rmse_xgb_std:.3g}',\n",
    "    f'{r2_gauss_std:.3g}',\n",
    "    f'{r2_rf_std:.3g}',\n",
    "    f'{r2_xgb_std:.3g}'\n",
    "]))"
   ]
  }
 ],
 "metadata": {
  "kernelspec": {
   "display_name": "py3122",
   "language": "python",
   "name": "python3"
  },
  "language_info": {
   "codemirror_mode": {
    "name": "ipython",
    "version": 3
   },
   "file_extension": ".py",
   "mimetype": "text/x-python",
   "name": "python",
   "nbconvert_exporter": "python",
   "pygments_lexer": "ipython3",
   "version": "3.12.2"
  }
 },
 "nbformat": 4,
 "nbformat_minor": 5
}
