{
 "cells": [
  {
   "cell_type": "code",
   "execution_count": 2,
   "id": "6e0fc9c9",
   "metadata": {},
   "outputs": [],
   "source": [
    "from common import list_directories, list_files\n",
    "from spectrum import FitsSpectrum\n",
    "from os import path\n",
    "\n",
    "targets = ['HD147889', 'HD158926', 'HD170740', 'HD185859']\n",
    "export_headers = ['File', 'v_rad_bary [km/s]', 'v_rad_heli [km/s]']\n",
    "export_data = ['# ' + '\\t'.join(export_headers)]\n",
    "\n",
    "for target in targets:\n",
    "    for band_dir in list_directories(f'data/fits/{target}'):\n",
    "        for datafile in list_files(band_dir):\n",
    "            spectrum = FitsSpectrum(datafile)\n",
    "            export_data.append('\\t'.join([\n",
    "                path.basename(datafile),\n",
    "                str(spectrum.v_rad_bary.value),\n",
    "                str(spectrum.v_rad_heli.value)\n",
    "            ]))\n",
    "\n",
    "export_file = open(f'export/v_rads.csv', 'w+')\n",
    "export_file.write('\\n'.join(export_data))\n",
    "export_file.close()"
   ]
  }
 ],
 "metadata": {
  "kernelspec": {
   "display_name": "py3122",
   "language": "python",
   "name": "python3"
  },
  "language_info": {
   "codemirror_mode": {
    "name": "ipython",
    "version": 3
   },
   "file_extension": ".py",
   "mimetype": "text/x-python",
   "name": "python",
   "nbconvert_exporter": "python",
   "pygments_lexer": "ipython3",
   "version": "3.12.2"
  }
 },
 "nbformat": 4,
 "nbformat_minor": 5
}
